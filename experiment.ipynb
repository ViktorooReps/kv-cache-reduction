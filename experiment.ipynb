{
 "cells": [
  {
   "cell_type": "code",
   "id": "initial_id",
   "metadata": {
    "collapsed": true,
    "ExecuteTime": {
     "end_time": "2025-04-10T15:34:24.012292Z",
     "start_time": "2025-04-10T15:34:21.453846Z"
    }
   },
   "source": [
    "import matplotlib.pyplot as plt\n",
    "\n",
    "from model.modeling_llama import LlamaForCausalLM as ModifiedLlama\n",
    "from transformers import AutoTokenizer, AutoModelForCausalLM\n",
    "from kvcache.iterative import IterativeReduceKVBiasCache as ModifiedCache, IterativeReduceKVBiasCache\n",
    "from transformers import DynamicCache\n",
    "from datasets import load_dataset\n",
    "\n",
    "import torch\n",
    "import numpy as np\n",
    "import random\n",
    "\n",
    "import torch.nn.functional as F\n",
    "import time\n",
    "from IPython.display import DisplayHandle\n",
    "\n",
    "import os\n",
    "import random\n",
    "import pandas as pd\n",
    "\n",
    "import seaborn as sns\n",
    "\n",
    "DEVICE = 'mps'\n",
    "DTYPE = torch.float32\n",
    "FIRST_N = 1000\n",
    "SAMPLE_SIZE = 1\n",
    "MAX_LENGTH = 500"
   ],
   "outputs": [],
   "execution_count": 1
  },
  {
   "metadata": {
    "ExecuteTime": {
     "end_time": "2025-04-10T15:34:44.173209Z",
     "start_time": "2025-04-10T15:34:24.013260Z"
    }
   },
   "cell_type": "code",
   "source": [
    "# Define the cache file name\n",
    "CACHE_FILENAME = f\"fineweb_sample{SAMPLE_SIZE}of{FIRST_N}.csv\"\n",
    "\n",
    "# Check if the cache file already exists\n",
    "if os.path.exists(CACHE_FILENAME):\n",
    "    print(f\"Cache file already exists: {CACHE_FILENAME}\")\n",
    "    df = pd.read_csv(CACHE_FILENAME)\n",
    "else:\n",
    "    # Load streaming dataset\n",
    "    dataset = load_dataset(\"HuggingFaceFW/fineweb-edu\", split=\"train\", name=\"sample-10BT\", streaming=True)\n",
    "    stream = iter(dataset)\n",
    "\n",
    "    # Take 1000 streamed samples\n",
    "    samples = [next(stream) for _ in range(1000)]\n",
    "\n",
    "    # Randomly select 10 of them\n",
    "    selected_samples = random.sample(samples, SAMPLE_SIZE)\n",
    "\n",
    "    # Convert to DataFrame\n",
    "    df = pd.DataFrame(selected_samples)\n",
    "\n",
    "    # Save to CSV\n",
    "    df.to_csv(CACHE_FILENAME, index=False, encoding=\"utf-8\")\n",
    "    print(f\"Saved CSV with {len(df)} samples to: {CACHE_FILENAME}\")\n",
    "\n",
    "texts = df[\"text\"]"
   ],
   "id": "388ca5340cb569b6",
   "outputs": [
    {
     "data": {
      "text/plain": [
       "Resolving data files:   0%|          | 0/2110 [00:00<?, ?it/s]"
      ],
      "application/vnd.jupyter.widget-view+json": {
       "version_major": 2,
       "version_minor": 0,
       "model_id": "6c50d8a21a25479ba4e423be724309b0"
      }
     },
     "metadata": {},
     "output_type": "display_data"
    },
    {
     "name": "stdout",
     "output_type": "stream",
     "text": [
      "Saved CSV with 1 samples to: fineweb_sample1of1000.csv\n"
     ]
    }
   ],
   "execution_count": 2
  },
  {
   "metadata": {
    "ExecuteTime": {
     "end_time": "2025-04-10T15:35:25.085050Z",
     "start_time": "2025-04-10T15:35:25.075419Z"
    }
   },
   "cell_type": "code",
   "source": [
    "def get_cache_size(cache: DynamicCache | ModifiedCache, max_len: int):\n",
    "    n_layers = len(cache.key_cache)\n",
    "    n_heads = len(cache.key_cache[0][0])\n",
    "    \n",
    "    if isinstance(cache, DynamicCache):\n",
    "        for layer in range(n_layers):\n",
    "            for head in range(n_heads):\n",
    "                yield {'Layer ID': layer, 'Head ID': head, 'Cache Size (% of max)': 100}\n",
    "    else:\n",
    "        for layer, last_available_per_head in enumerate(cache.last_available_idx):\n",
    "            last_available_per_head = last_available_per_head[0]\n",
    "            for head, last_available in enumerate(last_available_per_head):\n",
    "                yield {'Layer ID': layer, 'Head ID': head, 'Cache Size (% of max)': 100 * (last_available.item() / max_len)}\n",
    "                \n",
    "                \n",
    "\n",
    "def stepwise_perplexity(model, tokenizer, texts, cache_impl, update_every=10, max_length=MAX_LENGTH):\n",
    "    loss_fn = torch.nn.CrossEntropyLoss()\n",
    "\n",
    "    total_texts = len(texts)\n",
    "\n",
    "    display_handle = DisplayHandle()\n",
    "    display_handle.display(\"Starting perplexity evaluation...\")\n",
    "    \n",
    "    # track: PPL, Text Idx, Step, Cache Class\n",
    "    results = []\n",
    "    \n",
    "    # track: Cache Size (% of max), Layer ID, Head ID, Text Idx, Step\n",
    "    results_cache = []\n",
    "\n",
    "    for text_idx, text in enumerate(texts):\n",
    "        enc = tokenizer(text, return_tensors=\"pt\", truncation=True, max_length=max_length)\n",
    "        input_ids = enc[\"input_ids\"].squeeze(0).to(model.device)\n",
    "        cache = cache_impl()\n",
    "        \n",
    "        if isinstance(cache, ModifiedCache):\n",
    "            cache_class = cache.__class__.__name__ + f\"(MVI={cache.max_variance_increase:.1f})\"\n",
    "        else:\n",
    "            cache_class = cache.__class__.__name__\n",
    "        \n",
    "        seq_len = input_ids.size(0)\n",
    "        \n",
    "        total_loss = 0.0\n",
    "        total_tokens = 0\n",
    "\n",
    "        # Autoregressive token-by-token loop\n",
    "        for i in range(1, seq_len):\n",
    "            input_slice = input_ids[i - 1 : i].unsqueeze(0)  # [1, 1]\n",
    "            label_token = input_ids[i].unsqueeze(0)          # [1]\n",
    "\n",
    "            with torch.no_grad():\n",
    "                output = model(\n",
    "                    input_ids=input_slice,\n",
    "                    use_cache=True,\n",
    "                    past_key_values=cache,\n",
    "                )\n",
    "                cache = output.past_key_values\n",
    "                logits = output.logits[:, -1, :]  # [1, vocab_size]\n",
    "                loss = loss_fn(logits, label_token)\n",
    "                total_loss += loss.item()\n",
    "                total_tokens += 1\n",
    "\n",
    "            # Update the display every update_every steps\n",
    "            if total_tokens % update_every == 0 or (i == seq_len - 1 and text_idx == total_texts - 1):\n",
    "                current_ppl = np.exp(total_loss / total_tokens)\n",
    "                status = (f\"Text {text_idx + 1}/{total_texts} | \"\n",
    "                          f\"Token {i + 1}/{seq_len} | \"\n",
    "                          f\"Global Steps: {total_tokens} | \"\n",
    "                          f\"Cumulative PPL: {current_ppl:.2f}\")\n",
    "                display_handle.update(status)\n",
    "            \n",
    "            # Append current results:\n",
    "            # For each token, we collect the current perplexity estimate, the cache class, \n",
    "            # the text index, and the current step number.\n",
    "            results.append({\n",
    "                \"PPL\": np.exp(total_loss / total_tokens),\n",
    "                \"Cache Class\": cache_class,\n",
    "                \"Text Idx\": text_idx,\n",
    "                \"Step\": i\n",
    "            })\n",
    "            \n",
    "            results_cache.extend([\n",
    "                {\n",
    "                    \"Text Idx\": text_idx,\n",
    "                    \"Step\": i,\n",
    "                    \"Cache Class\": cache_class,\n",
    "                    **d\n",
    "                }\n",
    "                for d in get_cache_size(cache, max_len=i + 1)  \n",
    "            ])\n",
    "\n",
    "    return results, results_cache"
   ],
   "id": "8b865fd89b4ffa7e",
   "outputs": [],
   "execution_count": 8
  },
  {
   "metadata": {
    "ExecuteTime": {
     "end_time": "2025-04-10T15:35:25.555808Z",
     "start_time": "2025-04-10T15:35:25.553307Z"
    }
   },
   "cell_type": "code",
   "source": [
    "def plot(data):\n",
    "    plt.figure(figsize=(12, 7))\n",
    "    sns.lineplot(y=\"PPL\", x=\"Step\", data=pd.DataFrame(data), hue=\"Cache Class\")\n",
    "    plt.ylim((0, 40))\n",
    "    \n",
    "    \n",
    "def plot_cache(data):\n",
    "    plt.figure(figsize=(12, 7))\n",
    "    sns.lineplot(y=\"Cache Size (% of max)\", x=\"Step\", data=pd.DataFrame(data), hue=\"Cache Class\")"
   ],
   "id": "7dd7d866cb6906b",
   "outputs": [],
   "execution_count": 9
  },
  {
   "metadata": {
    "ExecuteTime": {
     "end_time": "2025-04-10T15:35:26.490673Z",
     "start_time": "2025-04-10T15:35:26.487801Z"
    }
   },
   "cell_type": "code",
   "source": "#texts = [texts[0]]",
   "id": "f18548e37bfe3243",
   "outputs": [],
   "execution_count": 10
  },
  {
   "metadata": {
    "ExecuteTime": {
     "end_time": "2025-04-10T15:35:28.531530Z",
     "start_time": "2025-04-10T15:35:26.716039Z"
    }
   },
   "cell_type": "code",
   "source": [
    "model_hf = AutoModelForCausalLM.from_pretrained(\"HuggingFaceTB/SmolLM2-135M\")\n",
    "model_hf.eval().to(DEVICE).to(DTYPE)\n",
    "\n",
    "tokenizer = AutoTokenizer.from_pretrained(\"HuggingFaceTB/SmolLM2-135M\")"
   ],
   "id": "a71d61d47060c9c7",
   "outputs": [],
   "execution_count": 11
  },
  {
   "metadata": {
    "ExecuteTime": {
     "end_time": "2025-04-10T15:35:50.706397Z",
     "start_time": "2025-04-10T15:35:28.532760Z"
    }
   },
   "cell_type": "code",
   "source": [
    "results, results_cache = stepwise_perplexity(model_hf, tokenizer, texts, cache_impl=lambda: None)\n",
    "plot(results)\n",
    "plot_cache(results_cache)"
   ],
   "id": "45b206204ad4c2f1",
   "outputs": [
    {
     "data": {
      "text/plain": [
       "'Text 1/1 | Token 500/500 | Global Steps: 499 | Cumulative PPL: 10.64'"
      ]
     },
     "metadata": {},
     "output_type": "display_data"
    },
    {
     "data": {
      "text/plain": [
       "<Figure size 1200x700 with 1 Axes>"
      ],
      "image/png": "[encoded data removed]"
     },
     "metadata": {},
     "output_type": "display_data"
    },
    {
     "data": {
      "text/plain": [
       "<Figure size 1200x700 with 1 Axes>"
      ],
      "image/png": "[encoded data removed]"
     },
     "metadata": {},
     "output_type": "display_data"
    }
   ],
   "execution_count": 12
  },
  {
   "metadata": {
    "ExecuteTime": {
     "end_time": "2025-04-10T15:35:52.454199Z",
     "start_time": "2025-04-10T15:35:50.708179Z"
    }
   },
   "cell_type": "code",
   "source": [
    "model_mod = ModifiedLlama.from_pretrained(\"HuggingFaceTB/SmolLM2-135M\")\n",
    "model_mod.eval().to(DEVICE).to(DTYPE)\n",
    "\n",
    "tokenizer = AutoTokenizer.from_pretrained(\"HuggingFaceTB/SmolLM2-135M\")"
   ],
   "id": "fc76ac36ca500039",
   "outputs": [],
   "execution_count": 13
  },
  {
   "metadata": {
    "jupyter": {
     "is_executing": true
    },
    "ExecuteTime": {
     "start_time": "2025-04-10T15:35:52.454926Z"
    }
   },
   "cell_type": "code",
   "source": [
    "res, resc = stepwise_perplexity(model_mod, tokenizer, texts, cache_impl=lambda: ModifiedCache(max_variance_increase=0.0))\n",
    "results += res\n",
    "results_cache += resc\n",
    "plot(results)\n",
    "plot_cache(results_cache)"
   ],
   "id": "90cc669d88c0f621",
   "outputs": [
    {
     "data": {
      "text/plain": [
       "'Text 1/1 | Token 81/500 | Global Steps: 80 | Cumulative PPL: 14.32'"
      ]
     },
     "metadata": {},
     "output_type": "display_data"
    }
   ],
   "execution_count": null
  },
  {
   "metadata": {
    "jupyter": {
     "is_executing": true
    }
   },
   "cell_type": "code",
   "source": [
    "res, resc = stepwise_perplexity(model_mod, tokenizer, texts, cache_impl=lambda: ModifiedCache(max_variance_increase=1.0))\n",
    "results += res\n",
    "results_cache += resc\n",
    "plot(results)\n",
    "plot_cache(results_cache)"
   ],
   "id": "c5ff3150aea2c31c",
   "outputs": [],
   "execution_count": null
  },
  {
   "metadata": {
    "jupyter": {
     "is_executing": true
    }
   },
   "cell_type": "code",
   "source": [
    "res, resc = stepwise_perplexity(model_mod, tokenizer, texts, cache_impl=lambda: ModifiedCache(max_variance_increase=5.0))\n",
    "results += res\n",
    "results_cache += resc\n",
    "plot(results)\n",
    "plot_cache(results_cache)"
   ],
   "id": "954a91e36ce740b8",
   "outputs": [],
   "execution_count": null
  },
  {
   "metadata": {
    "jupyter": {
     "is_executing": true
    }
   },
   "cell_type": "code",
   "source": [
    "res, resc = stepwise_perplexity(model_mod, tokenizer, texts, cache_impl=lambda: ModifiedCache(max_variance_increase=10.0))\n",
    "results += res\n",
    "results_cache += resc\n",
    "plot(results)\n",
    "plot_cache(results_cache)"
   ],
   "id": "93dd7d3f59aa497",
   "outputs": [],
   "execution_count": null
  },
  {
   "metadata": {
    "jupyter": {
     "is_executing": true
    }
   },
   "cell_type": "code",
   "source": [
    "res, resc = stepwise_perplexity(model_mod, tokenizer, texts, cache_impl=lambda: ModifiedCache(max_variance_increase=20.0))\n",
    "results += res\n",
    "results_cache += resc\n",
    "plot(results)\n",
    "plot_cache(results_cache)"
   ],
   "id": "95c463eb70ce804c",
   "outputs": [],
   "execution_count": null
  },
  {
   "metadata": {},
   "cell_type": "code",
   "source": "",
   "id": "dbc923eb81f6a806",
   "outputs": [],
   "execution_count": null
  }
 ],
 "metadata": {
  "kernelspec": {
   "display_name": "Python 3",
   "language": "python",
   "name": "python3"
  },
  "language_info": {
   "codemirror_mode": {
    "name": "ipython",
    "version": 2
   },
   "file_extension": ".py",
   "mimetype": "text/x-python",
   "name": "python",
   "nbconvert_exporter": "python",
   "pygments_lexer": "ipython2",
   "version": "2.7.6"
  }
 },
 "nbformat": 4,
 "nbformat_minor": 5
}
